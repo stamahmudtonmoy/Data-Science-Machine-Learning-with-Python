{
 "cells": [
  {
   "cell_type": "markdown",
   "id": "e538d946-7899-4ef1-a9ca-85a918cff63a",
   "metadata": {},
   "source": [
    "# Task 01"
   ]
  },
  {
   "cell_type": "code",
   "execution_count": 103,
   "id": "26b2f854-63e7-4992-a492-f42c9e4f8092",
   "metadata": {},
   "outputs": [],
   "source": [
    "import numpy as np\n",
    "import pandas as pd"
   ]
  },
  {
   "cell_type": "code",
   "execution_count": 104,
   "id": "ec7dadd8-4e1c-49c8-80f7-2b2af32ab2bc",
   "metadata": {},
   "outputs": [],
   "source": [
    "data = {\n",
    "    'Weight': [2, 4, 5, 3, 6, 5, 7],\n",
    "    'Price': [35, 60, 20, 50, 50, 55, 60]\n",
    "}\n",
    "\n",
    "df = pd.DataFrame(data)"
   ]
  },
  {
   "cell_type": "code",
   "execution_count": 105,
   "id": "7defd9f1-162d-4cd8-9eb3-1ba2c0cfa885",
   "metadata": {},
   "outputs": [],
   "source": [
    "# Extract the X and Y values\n",
    "X = df['Weight'].values\n",
    "Y = df['Price'].values\n",
    "n = len(X)\n",
    "\n",
    "# Calculate the necessary sums\n",
    "sum_X = np.sum(X)\n",
    "sum_Y = np.sum(Y)\n",
    "sum_X2 = np.sum(X**2)\n",
    "sum_XY = np.sum(X * Y)\n",
    "\n",
    "# Calculate Slope (M)\n",
    "M = (n * sum_XY - sum_X * sum_Y) / (n * sum_X2 - sum_X**2)\n",
    "\n",
    "# Calculate Y-Intercept (C)\n",
    "C = (sum_Y - M * sum_X) / n"
   ]
  },
  {
   "cell_type": "code",
   "execution_count": 106,
   "id": "4a9a0600-73e9-410b-b7e6-6f1d9af842c5",
   "metadata": {},
   "outputs": [
    {
     "name": "stdout",
     "output_type": "stream",
     "text": [
      "Predicted price for weight = 6.50: 52.197580645161295\n"
     ]
    }
   ],
   "source": [
    "# Predict price for weight = 6.50\n",
    "predicted_price = M * 6.50 + C\n",
    "print(f\"Predicted price for weight = 6.50: {predicted_price}\")"
   ]
  },
  {
   "cell_type": "markdown",
   "id": "6b5b78e0-a527-4234-befb-529ec226fd6e",
   "metadata": {},
   "source": [
    "# Task 02"
   ]
  },
  {
   "cell_type": "code",
   "execution_count": 108,
   "id": "cf38d367-d0b9-4866-b531-2f4a7a83f201",
   "metadata": {},
   "outputs": [],
   "source": [
    "# Calculate predicted prices for each weight\n",
    "predicted_prices = M * X + C\n",
    "\n",
    "# Compute residuals\n",
    "residuals = Y - predicted_prices\n",
    "\n",
    "# Add residuals to DataFrame\n",
    "df['Predicted Price'] = predicted_prices\n",
    "df['Residual'] = residuals"
   ]
  },
  {
   "cell_type": "markdown",
   "id": "2ee49b53-be38-410d-8b5f-d6d81e760a0d",
   "metadata": {},
   "source": [
    "# Task 03"
   ]
  },
  {
   "cell_type": "code",
   "execution_count": 110,
   "id": "913fd24f-ff70-4bd2-bc24-71ae7c988385",
   "metadata": {},
   "outputs": [
    {
     "name": "stdout",
     "output_type": "stream",
     "text": [
      "Mean Squared Error (MSE): 167.30990783410135\n",
      "Mean Absolute Error (MAE): 9.87327188940092\n"
     ]
    }
   ],
   "source": [
    "# Calculate MSE\n",
    "MSE = np.mean(residuals**2)\n",
    "\n",
    "# Calculate MAE\n",
    "MAE = np.mean(np.abs(residuals))\n",
    "\n",
    "print(f\"Mean Squared Error (MSE): {MSE}\")\n",
    "print(f\"Mean Absolute Error (MAE): {MAE}\")"
   ]
  },
  {
   "cell_type": "markdown",
   "id": "af864929-dcb6-479e-8817-08be2812ddf7",
   "metadata": {},
   "source": [
    "# Final Task"
   ]
  },
  {
   "cell_type": "code",
   "execution_count": 112,
   "id": "32df7306-737d-48d8-8bec-608a969d7aef",
   "metadata": {},
   "outputs": [
    {
     "name": "stdout",
     "output_type": "stream",
     "text": [
      "Excel file saved at: linear_regression_results.xlsx\n"
     ]
    }
   ],
   "source": [
    "# Export the results to Excel\n",
    "excel_path = 'linear_regression_results.xlsx'\n",
    "df.to_excel(excel_path, index=False)\n",
    "# Provide the file path\n",
    "print(f\"Excel file saved at: {excel_path}\")"
   ]
  },
  {
   "cell_type": "code",
   "execution_count": 113,
   "id": "6bf37fbc-23ac-447f-9743-957ce0e7d694",
   "metadata": {},
   "outputs": [
    {
     "name": "stdout",
     "output_type": "stream",
     "text": [
      "   Weight  Price  Predicted Price   Residual\n",
      "0       2     35        40.403226  -5.403226\n",
      "1       4     60        45.645161  14.354839\n",
      "2       5     20        48.266129 -28.266129\n",
      "3       3     50        43.024194   6.975806\n",
      "4       6     50        50.887097  -0.887097\n",
      "5       5     55        48.266129   6.733871\n",
      "6       7     60        53.508065   6.491935\n"
     ]
    }
   ],
   "source": [
    "# Read the Excel file into a DataFrame\n",
    "df = pd.read_excel('linear_regression_results.xlsx')\n",
    "# Display the entire DataFrame\n",
    "print(df)"
   ]
  }
 ],
 "metadata": {
  "kernelspec": {
   "display_name": "Python [conda env:base] *",
   "language": "python",
   "name": "conda-base-py"
  },
  "language_info": {
   "codemirror_mode": {
    "name": "ipython",
    "version": 3
   },
   "file_extension": ".py",
   "mimetype": "text/x-python",
   "name": "python",
   "nbconvert_exporter": "python",
   "pygments_lexer": "ipython3",
   "version": "3.12.7"
  }
 },
 "nbformat": 4,
 "nbformat_minor": 5
}
