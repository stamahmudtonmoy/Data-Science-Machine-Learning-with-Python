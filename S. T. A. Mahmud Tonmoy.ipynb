{
  "cells": [
    {
      "cell_type": "markdown",
      "id": "9818ffc8",
      "metadata": {
        "id": "9818ffc8"
      },
      "source": [
        "# Python Practice Problems"
      ]
    },
    {
      "cell_type": "markdown",
      "id": "92c96f2f",
      "metadata": {
        "id": "92c96f2f"
      },
      "source": [
        "### 1. Find the Largest of Two Numbers\n",
        "**Task:** Given two numbers, find the larger one.  \n",
        "**Demo Input:**  5 and 6 <br>\n",
        "**Output:** 6\n"
      ]
    },
    {
      "cell_type": "code",
      "execution_count": 1,
      "id": "15c848cf",
      "metadata": {
        "id": "15c848cf",
        "colab": {
          "base_uri": "https://localhost:8080/"
        },
        "outputId": "8b9f2667-11c4-4dca-d0b7-b04f4226c1a1"
      },
      "outputs": [
        {
          "output_type": "stream",
          "name": "stdout",
          "text": [
            "The larger number is: 6\n"
          ]
        }
      ],
      "source": [
        "a = 5\n",
        "b = 6\n",
        "\n",
        "if a > b:\n",
        "    larger = a\n",
        "else:\n",
        "    larger = b\n",
        "\n",
        "\n",
        "print(\"The larger number is:\", larger)\n"
      ]
    },
    {
      "cell_type": "markdown",
      "id": "c8c1c683",
      "metadata": {
        "id": "c8c1c683"
      },
      "source": [
        "### 2. Print Numbers from 1 to N\n",
        "**Task**: Given a number `n`, print all numbers from 1 to `n`. <br>\n",
        "**Demo Input**: `5`  <br>\n",
        "**Demo Output**:  1 2 3 4 5\n"
      ]
    },
    {
      "cell_type": "code",
      "execution_count": 2,
      "id": "4f9f4529",
      "metadata": {
        "id": "4f9f4529",
        "colab": {
          "base_uri": "https://localhost:8080/"
        },
        "outputId": "77d46706-dfda-4aa3-9e9d-2111a06e796c"
      },
      "outputs": [
        {
          "output_type": "stream",
          "name": "stdout",
          "text": [
            "1 2 3 4 5 "
          ]
        }
      ],
      "source": [
        "n = 5\n",
        "\n",
        "for i in range(1, n + 1):\n",
        "    print(i, end=' ')\n"
      ]
    },
    {
      "cell_type": "markdown",
      "id": "899df468",
      "metadata": {
        "id": "899df468"
      },
      "source": [
        "### 3. Check if a Number is Positive or Negative\n",
        "**Task**: Determine if the input number is positive, negative, or zero.  \n",
        "**Demo Input**: `-3`  \n",
        "**Demo Output**: `The number is Negative`"
      ]
    },
    {
      "cell_type": "code",
      "execution_count": 3,
      "id": "56ae285e",
      "metadata": {
        "id": "56ae285e",
        "colab": {
          "base_uri": "https://localhost:8080/"
        },
        "outputId": "02470a18-2b94-4dda-8159-108235713f28"
      },
      "outputs": [
        {
          "output_type": "stream",
          "name": "stdout",
          "text": [
            "The number is Negative\n"
          ]
        }
      ],
      "source": [
        "a = -3\n",
        "\n",
        "if a > 0:\n",
        "    print(\"The number is Positive\")\n",
        "elif a < 0:\n",
        "    print(\"The number is Negative\")\n",
        "else:\n",
        "    print(\"The number is Zero\")\n"
      ]
    },
    {
      "cell_type": "markdown",
      "id": "9d865d12",
      "metadata": {
        "id": "9d865d12"
      },
      "source": [
        "### 4. Calculate the Sum of Digits\n",
        "**Task**: Given a number, find the sum of its digits.  \n",
        "**Demo Input**: `123`  \n",
        "**Demo Output**: `6`  \n",
        "(Explanation: `1+2+3=6`)"
      ]
    },
    {
      "cell_type": "code",
      "execution_count": 5,
      "id": "c28b2c6c",
      "metadata": {
        "id": "c28b2c6c",
        "colab": {
          "base_uri": "https://localhost:8080/"
        },
        "outputId": "f2059970-62e0-4662-f0af-27ab811c4b60"
      },
      "outputs": [
        {
          "output_type": "stream",
          "name": "stdout",
          "text": [
            "6\n"
          ]
        }
      ],
      "source": [
        "number = 123\n",
        "sum_of_digits = sum(int(digit) for digit in str(number))\n",
        "print(sum_of_digits)"
      ]
    },
    {
      "cell_type": "markdown",
      "id": "a970046f",
      "metadata": {
        "id": "a970046f"
      },
      "source": [
        "### 5. Find Factorial of a Number\n",
        "**Task**: Calculate the factorial of a given number.  \n",
        "**Demo Input**: `4`  \n",
        "**Demo Output**: `24`  \n",
        "(Explanation: `4! = 4*3*2*1 = 24`)"
      ]
    },
    {
      "cell_type": "code",
      "execution_count": 8,
      "id": "fd5966d2",
      "metadata": {
        "id": "fd5966d2",
        "colab": {
          "base_uri": "https://localhost:8080/"
        },
        "outputId": "698a3c39-f868-4f1a-f210-9873795d155b"
      },
      "outputs": [
        {
          "output_type": "stream",
          "name": "stdout",
          "text": [
            "24\n"
          ]
        }
      ],
      "source": [
        "a = 4\n",
        "factorial = 1\n",
        "for i in range(1, a + 1):\n",
        "    factorial *= i\n",
        "print(factorial)\n"
      ]
    },
    {
      "cell_type": "markdown",
      "id": "c8798099",
      "metadata": {
        "id": "c8798099"
      },
      "source": [
        "### 6. Count Occurrences of a Digit\n",
        "**Task**: Count how many times a specific digit appears max in a number.  \n",
        "**Demo Input**:  1233321 <br>\n",
        "**Demo Output**: `3`  <br>\n",
        "(Explanation: `3` appears 3 times in `1233321`)"
      ]
    },
    {
      "cell_type": "code",
      "execution_count": 9,
      "id": "5772f0e6",
      "metadata": {
        "id": "5772f0e6",
        "colab": {
          "base_uri": "https://localhost:8080/"
        },
        "outputId": "f3c7d191-31d2-46d4-a49d-d11092f5b342"
      },
      "outputs": [
        {
          "output_type": "stream",
          "name": "stdout",
          "text": [
            "3\n"
          ]
        }
      ],
      "source": [
        "num = 1233321\n",
        "digits = str(num)\n",
        "max_count = max(digits.count(d) for d in set(digits))\n",
        "print(max_count)"
      ]
    },
    {
      "cell_type": "markdown",
      "id": "b7f985bc",
      "metadata": {
        "id": "b7f985bc"
      },
      "source": [
        "### 7. Find the GCD of Two Numbers\n",
        "**Task**: Find the greatest common divisor (GCD) of two numbers.  \n",
        "**Demo Input**: 8 and 12 <br>\n",
        "**Demo Output**: `4`"
      ]
    },
    {
      "cell_type": "code",
      "execution_count": 10,
      "id": "a467887d",
      "metadata": {
        "id": "a467887d",
        "colab": {
          "base_uri": "https://localhost:8080/"
        },
        "outputId": "f5389a24-e3cb-4763-8e78-61d2d59c3f16"
      },
      "outputs": [
        {
          "output_type": "stream",
          "name": "stdout",
          "text": [
            "4\n"
          ]
        }
      ],
      "source": [
        "a = 8\n",
        "b = 12\n",
        "\n",
        "while b:\n",
        "    a, b = b, a % b\n",
        "\n",
        "print(a)\n"
      ]
    },
    {
      "cell_type": "markdown",
      "id": "14c6a2fd",
      "metadata": {
        "id": "14c6a2fd"
      },
      "source": [
        "### 8. Reverse a String\n",
        "**Task**: Reverse the given string.  \n",
        "**Demo Input**: `\"aiquest\"`  \n",
        "**Demo Output**: `\"tseuqia\"`"
      ]
    },
    {
      "cell_type": "code",
      "execution_count": 11,
      "id": "bd22e158",
      "metadata": {
        "id": "bd22e158",
        "colab": {
          "base_uri": "https://localhost:8080/"
        },
        "outputId": "97e098b3-9e60-4201-9a60-58aa2cde2071"
      },
      "outputs": [
        {
          "output_type": "stream",
          "name": "stdout",
          "text": [
            "tseuqia\n"
          ]
        }
      ],
      "source": [
        "a = \"aiquest\"\n",
        "reversed_a = a[::-1]\n",
        "print(reversed_a)"
      ]
    },
    {
      "cell_type": "markdown",
      "id": "88317dfd",
      "metadata": {
        "id": "88317dfd"
      },
      "source": [
        "### 9. Check Armstrong Number\n",
        "**Task**: Check if a number is an Armstrong number (the sum of its digits raised to the power of the number of digits equals the number).  \n",
        "**Demo Input**: `153`  \n",
        "**Demo Output**: `153 is an Armstrong Number`  \n",
        "(Explanation: \\(1^3 + 5^3 + 3^3 = 153\\))"
      ]
    },
    {
      "cell_type": "code",
      "execution_count": 12,
      "id": "2602ff94",
      "metadata": {
        "id": "2602ff94",
        "colab": {
          "base_uri": "https://localhost:8080/"
        },
        "outputId": "ff1972be-fd6d-49c6-c701-28533715b681"
      },
      "outputs": [
        {
          "output_type": "stream",
          "name": "stdout",
          "text": [
            "153 is an Armstrong Number\n"
          ]
        }
      ],
      "source": [
        "num = 153\n",
        "digits = str(num)\n",
        "power = len(digits)\n",
        "armstrong_sum = sum(int(digit)**power for digit in digits)\n",
        "\n",
        "if armstrong_sum == num:\n",
        "    print(f\"{num} is an Armstrong Number\")\n",
        "else:\n",
        "    print(f\"{num} is not an Armstrong Number\")\n"
      ]
    },
    {
      "cell_type": "markdown",
      "id": "0905a3cc",
      "metadata": {
        "id": "0905a3cc"
      },
      "source": [
        "### 10. Generate a Pattern\n",
        "**Task**: Print a pyramid pattern with `n` rows.  \n",
        "**Demo input:** 4 <br>\n",
        "**Output:** You will see the pyramid pattern with 4 rows"
      ]
    },
    {
      "cell_type": "code",
      "execution_count": 13,
      "id": "83d8b483",
      "metadata": {
        "id": "83d8b483",
        "colab": {
          "base_uri": "https://localhost:8080/"
        },
        "outputId": "120ce477-b4b5-449c-f08c-93427035c959"
      },
      "outputs": [
        {
          "output_type": "stream",
          "name": "stdout",
          "text": [
            "   * \n",
            "  * * \n",
            " * * * \n",
            "* * * * \n"
          ]
        }
      ],
      "source": [
        "n = 4\n",
        "\n",
        "for i in range(1, n + 1):\n",
        "    print(' ' * (n - i) + '* ' * i)"
      ]
    },
    {
      "cell_type": "markdown",
      "id": "ec723917",
      "metadata": {
        "id": "ec723917"
      },
      "source": [
        "# Good Luck!"
      ]
    }
  ],
  "metadata": {
    "kernelspec": {
      "display_name": "Python 3 (ipykernel)",
      "language": "python",
      "name": "python3"
    },
    "language_info": {
      "codemirror_mode": {
        "name": "ipython",
        "version": 3
      },
      "file_extension": ".py",
      "mimetype": "text/x-python",
      "name": "python",
      "nbconvert_exporter": "python",
      "pygments_lexer": "ipython3",
      "version": "3.9.13"
    },
    "colab": {
      "provenance": []
    }
  },
  "nbformat": 4,
  "nbformat_minor": 5
}